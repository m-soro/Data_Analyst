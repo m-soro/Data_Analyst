{
 "cells": [
  {
   "cell_type": "markdown",
   "metadata": {
    "collapsed": true
   },
   "source": [
    "# Simpson's Paradox\n",
    "Use `admission_data.csv` for this exercise."
   ]
  },
  {
   "cell_type": "code",
   "execution_count": 104,
   "metadata": {},
   "outputs": [],
   "source": [
    "# Load and view first few lines of dataset\n",
    "import pandas as pd\n",
    "df = pd.read_csv('admission_data.csv')"
   ]
  },
  {
   "cell_type": "markdown",
   "metadata": {},
   "source": [
    "### Proportion and admission rate for each gender"
   ]
  },
  {
   "cell_type": "code",
   "execution_count": 89,
   "metadata": {},
   "outputs": [
    {
     "name": "stdout",
     "output_type": "stream",
     "text": [
      "51.0 % of students are females\n"
     ]
    }
   ],
   "source": [
    "# get variables\n",
    "total_females = df.query('gender == \"female\"').gender.count()\n",
    "total_students = df.student_id.count()\n",
    "\n",
    "# Proportion of students that are female\n",
    "female_proportion = (total_females/total_students) * 100\n",
    "female_percent = round(female_proportion,0)\n",
    "print(female_percent, '% of students are females')"
   ]
  },
  {
   "cell_type": "code",
   "execution_count": 90,
   "metadata": {},
   "outputs": [
    {
     "name": "stdout",
     "output_type": "stream",
     "text": [
      "49.0 % of students are males\n"
     ]
    }
   ],
   "source": [
    "# get variables\n",
    "total_males = df.query('gender == \"male\"').gender.count()\n",
    "total_students = df.student_id.count()\n",
    "\n",
    "# Proportion of students that are male\n",
    "male_proportion = (total_males/total_students) * 100\n",
    "male_percent = round(male_proportion,0)\n",
    "print(male_percent, '% of students are males')"
   ]
  },
  {
   "cell_type": "code",
   "execution_count": 91,
   "metadata": {},
   "outputs": [
    {
     "name": "stdout",
     "output_type": "stream",
     "text": [
      "29.0 % admitted are females\n"
     ]
    }
   ],
   "source": [
    "# Admission rate for females\n",
    "total_females = df.query('gender == \"female\"').gender.count()\n",
    "adm_females = df.query('gender == \"female\" & admitted == True').admitted.count()\n",
    "\n",
    "female_admission = (adm_females/total_females) * 100\n",
    "female_admission_percent = round(female_admission,0)\n",
    "print(female_admission_percent, '% admitted are females')"
   ]
  },
  {
   "cell_type": "code",
   "execution_count": 92,
   "metadata": {},
   "outputs": [
    {
     "name": "stdout",
     "output_type": "stream",
     "text": [
      "49.0 % admitted are males\n"
     ]
    }
   ],
   "source": [
    "# Admission rate for males\n",
    "total_males = df.query('gender == \"male\"').gender.count()\n",
    "adm_males = df.query('gender == \"male\" & admitted == True').admitted.count()\n",
    "\n",
    "male_admission = (adm_males/total_males) * 100\n",
    "male_admission_percent = round(male_admission,0)\n",
    "print(male_admission_percent, '% admitted are males')"
   ]
  },
  {
   "cell_type": "markdown",
   "metadata": {},
   "source": [
    "### Proportion and admission rate for physics majors of each gender"
   ]
  },
  {
   "cell_type": "code",
   "execution_count": 49,
   "metadata": {},
   "outputs": [
    {
     "name": "stdout",
     "output_type": "stream",
     "text": [
      "12.0 % of females are majoring in Physics\n"
     ]
    }
   ],
   "source": [
    "# What proportion of female students are majoring in physics?\n",
    "fem_physics = df.query(' gender == \"female\" & major == \"Physics\" ').student_id.count()\n",
    "fem_physics_percent = (fem_physics/total_females) * 100\n",
    "fem_physics_percent = round(fem_physics_percent,0)\n",
    "print(fem_physics_percent, '% of females are majoring in Physics')"
   ]
  },
  {
   "cell_type": "code",
   "execution_count": 50,
   "metadata": {},
   "outputs": [
    {
     "name": "stdout",
     "output_type": "stream",
     "text": [
      "93.0 % of males are majoring in Physics\n"
     ]
    }
   ],
   "source": [
    "# What proportion of male students are majoring in physics?\n",
    "male_physics = df.query(' gender == \"male\" & major == \"Physics\" ').student_id.count()\n",
    "male_physics_percent = (male_physics/total_males) * 100\n",
    "male_physics_percent = round(male_physics_percent,0)\n",
    "print(male_physics_percent, '% of males are majoring in Physics')"
   ]
  },
  {
   "cell_type": "code",
   "execution_count": 65,
   "metadata": {},
   "outputs": [
    {
     "name": "stdout",
     "output_type": "stream",
     "text": [
      "74.0 % of females admitted are majoring in Physics\n"
     ]
    }
   ],
   "source": [
    "# Admission rate for female physics majors\n",
    "fem_admitted_physics = df.query(' gender == \"female\" & \\\n",
    "                                  admitted == True &  \\\n",
    "                                  major == \"Physics\" ').student_id.count()\n",
    "fem_admitted_percent = (fem_admitted_physics/fem_physics) * 100\n",
    "fem_admitted_percent = round(fem_admitted_percent,0)\n",
    "print(fem_admitted_percent,'% of females admitted are majoring in Physics')"
   ]
  },
  {
   "cell_type": "code",
   "execution_count": 66,
   "metadata": {},
   "outputs": [
    {
     "name": "stdout",
     "output_type": "stream",
     "text": [
      "52.0 % of males admitted are majoring in Physics\n"
     ]
    }
   ],
   "source": [
    "# Admission rate for male physics majors\n",
    "male_admitted_physics = df.query(' gender == \"male\" & \\\n",
    "                                  admitted == True &  \\\n",
    "                                  major == \"Physics\" ').student_id.count()\n",
    "male_admitted_percent = (male_admitted_physics/male_physics) * 100\n",
    "male_admitted_percent = round(male_admitted_percent,0)\n",
    "print(male_admitted_percent,'% of males admitted are majoring in Physics')"
   ]
  },
  {
   "cell_type": "markdown",
   "metadata": {},
   "source": [
    "### Proportion and admission rate for chemistry majors of each gender"
   ]
  },
  {
   "cell_type": "code",
   "execution_count": 101,
   "metadata": {},
   "outputs": [
    {
     "name": "stdout",
     "output_type": "stream",
     "text": [
      "88.0 % of females are majoring in Chemistry\n"
     ]
    }
   ],
   "source": [
    "# What proportion of female students are majoring in chemistry?\n",
    "fem_chem = df.query(' gender == \"female\" & major == \"Chemistry\" ').student_id.count()\n",
    "fem_chem_percent = (fem_chem/total_females) * 100\n",
    "fem_chem_percent = round(fem_chem_percent,0)\n",
    "print(fem_chem_percent, '% of females are majoring in Chemistry')"
   ]
  },
  {
   "cell_type": "code",
   "execution_count": 100,
   "metadata": {},
   "outputs": [
    {
     "name": "stdout",
     "output_type": "stream",
     "text": [
      "7.0 % of males are majoring in Chemistry\n"
     ]
    }
   ],
   "source": [
    "# What proportion of male students are majoring in chemistry?\n",
    "male_chem = df.query(' gender == \"male\" & major == \"Chemistry\" ').student_id.count()\n",
    "male_chem_percent = (male_chem/total_males) * 100\n",
    "male_chem_percent = round(male_chem_percent,0)\n",
    "print(male_chem_percent, '% of males are majoring in Chemistry')"
   ]
  },
  {
   "cell_type": "code",
   "execution_count": 76,
   "metadata": {},
   "outputs": [
    {
     "name": "stdout",
     "output_type": "stream",
     "text": [
      "23.0 % of females admitted are majoring in Chemistry\n"
     ]
    }
   ],
   "source": [
    "# Admission rate for female chemistry majors\n",
    "fem_admitted_chem = df.query(' gender == \"female\" & \\\n",
    "                               admitted == True &  \\\n",
    "                               major == \"Chemistry\" ').student_id.count()\n",
    "fem_admitted_percent = (fem_admitted_chem/fem_chem) * 100\n",
    "fem_admitted_percent = round(fem_admitted_percent,0)\n",
    "print(fem_admitted_percent,'% of females admitted are majoring in Chemistry')"
   ]
  },
  {
   "cell_type": "code",
   "execution_count": 80,
   "metadata": {},
   "outputs": [
    {
     "name": "stdout",
     "output_type": "stream",
     "text": [
      "11.0 % of males admitted are majoring in Chemistry\n"
     ]
    }
   ],
   "source": [
    "# Admission rate for male chemistry majors\n",
    "male_admitted_chem = df.query(' gender == \"male\" & \\\n",
    "                                  admitted == True &  \\\n",
    "                                  major == \"Chemistry\" ').student_id.count()\n",
    "male_admitted_percent = (male_admitted_chem/male_chem) * 100\n",
    "male_admitted_percent = round(male_admitted_percent,0)\n",
    "print(male_admitted_percent,'% of males admitted are majoring in Chemistry')"
   ]
  },
  {
   "cell_type": "markdown",
   "metadata": {},
   "source": [
    "### Admission rate for each major"
   ]
  },
  {
   "cell_type": "code",
   "execution_count": 81,
   "metadata": {},
   "outputs": [
    {
     "name": "stdout",
     "output_type": "stream",
     "text": [
      "54.0 % of students admitted are majoring in Physics\n"
     ]
    }
   ],
   "source": [
    "# Admission rate for physics majors\n",
    "admitted_physics = df.query(' admitted == True &  \\\n",
    "                              major == \"Physics\" ').student_id.count()\n",
    "admitted_percent = (admitted_physics/(fem_physics + male_physics)) * 100\n",
    "admitted_percent = round(admitted_percent,0)\n",
    "print(admitted_percent,'% of students admitted are majoring in Physics')"
   ]
  },
  {
   "cell_type": "code",
   "execution_count": 102,
   "metadata": {},
   "outputs": [
    {
     "name": "stdout",
     "output_type": "stream",
     "text": [
      "22.0 % of students admitted are majoring in Chemistry\n"
     ]
    }
   ],
   "source": [
    "# Admission rate for chemistry majors\n",
    "admitted_chemistry = df.query(' admitted == True &  \\\n",
    "                              major == \"Chemistry\" ').student_id.count()\n",
    "admitted_percent = (admitted_chemistry/(fem_chem + male_chem)) * 100\n",
    "admitted_percent = round(admitted_percent,0)\n",
    "print(admitted_percent,'% of students admitted are majoring in Chemistry')"
   ]
  },
  {
   "cell_type": "markdown",
   "metadata": {},
   "source": [
    "* From this dataset, **males** tend to be **admitted at a higher rate at 49%** when compared to females at 29%. \n",
    "* **Physics majors are 93% males** while only 12% for females, **however more females are admitted to major in Physics at 74%** comparing to males at 52%.\n",
    "* **Chemistry majors are 88% females** and 7% are only males. For students that are **admitted to major in Chemistry, 23% are females** and 11% are males. \n",
    "* **More students are majoring in Physics at 54%** compared to Chemistry at 22%"
   ]
  }
 ],
 "metadata": {
  "kernelspec": {
   "display_name": "Python 3",
   "language": "python",
   "name": "python3"
  },
  "language_info": {
   "codemirror_mode": {
    "name": "ipython",
    "version": 3
   },
   "file_extension": ".py",
   "mimetype": "text/x-python",
   "name": "python",
   "nbconvert_exporter": "python",
   "pygments_lexer": "ipython3",
   "version": "3.6.3"
  }
 },
 "nbformat": 4,
 "nbformat_minor": 2
}
