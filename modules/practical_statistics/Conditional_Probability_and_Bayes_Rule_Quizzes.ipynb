{
  "nbformat": 4,
  "nbformat_minor": 0,
  "metadata": {
    "colab": {
      "name": "Conditional Probability and Bayes Rule Quizzes.ipynb",
      "provenance": []
    },
    "kernelspec": {
      "name": "python3",
      "display_name": "Python 3"
    },
    "language_info": {
      "name": "python"
    }
  },
  "cells": [
    {
      "cell_type": "markdown",
      "metadata": {
        "id": "2EOYedUtwCqJ"
      },
      "source": [
        "**Learning Objectives - Conditional Probability**\n",
        "\n",
        "We use the notation where\n",
        "\n",
        "* $P(A)$ means \"the probability of A\"\n",
        "* $P(\\neg A)$ means \"the probability of NOT A\"\n",
        "* $P(A,B)$ means \"the probability of A and B\"\n",
        "* $P(A|B)$ means \"the probability of A given B."
      ]
    },
    {
      "cell_type": "markdown",
      "metadata": {
        "id": "EiHOpIA5wjLf"
      },
      "source": [
        "### Q1\n",
        "If A and B are independent events and $P(A) = 0.2$ and $P(B) = 0.1$\n",
        "\n",
        "What is $P(A,B)$ ?\n",
        "\n",
        "$Answer:$ Probabilities are just multiplied for **independent** events. Therefore, $P(A,B) = 0.02$   "
      ]
    },
    {
      "cell_type": "markdown",
      "metadata": {
        "id": "cf3tBZ-IxV_v"
      },
      "source": [
        "### Q2\n",
        "If A and B are **NOT independent** events, and $P(A) = 0.2$ and $P(B) = 0.1$ \n",
        "\n",
        "What is $P(A, B)$ ?\n",
        "\n",
        "$Answer:$ We need more information or evidence, since $A$ and $B$ are dependent events "
      ]
    },
    {
      "cell_type": "markdown",
      "metadata": {
        "id": "4BwsBbMryNOV"
      },
      "source": [
        "### Q3\n",
        "If $A$ and $B$ are **NOT** independent events, and \n",
        "\n",
        "* $P(A) = 0.2$ \n",
        "* $P(B) = 0.1$ \n",
        "* $P(B|A) = 0.3$ \n",
        "\n",
        "What is $P(A|B)$?"
      ]
    },
    {
      "cell_type": "markdown",
      "metadata": {
        "id": "AV3OZKgYyjDn"
      },
      "source": [
        "$$Soution: \\,\\,\\,Bayes Rule$$\n",
        "\\\n",
        "$$\n",
        "P(A|B) = \\frac{P(B|A)*P(A)}{P(B)}\\\\\n",
        "\\\n",
        "P(A|B) = \\frac{P(B|A)*P(A)}{P(B)}\\\\\n",
        "\\\n",
        "P(A|B) = \\frac{0.2\\,*\\,0.3}{(0.2\\,*\\,0.3) \\,+ \\,(0.1\\,*\\,0.3)}\\\\\n",
        "\\\n",
        "P(A|B) = \\frac{0.06}{0.06 \\,+ \\,0.3}\\\\\n",
        "\\\n",
        "P(A|B) = 0.66\\\\\n",
        "$$\n"
      ]
    },
    {
      "cell_type": "code",
      "metadata": {
        "colab": {
          "base_uri": "https://localhost:8080/"
        },
        "id": "1r4cnvr9wFlt",
        "outputId": "3f0d731c-8688-4b91-93de-d2ab20543149"
      },
      "source": [
        ".2*.3/((.2*.3) +(.1*.3))"
      ],
      "execution_count": null,
      "outputs": [
        {
          "output_type": "execute_result",
          "data": {
            "text/plain": [
              "0.6666666666666666"
            ]
          },
          "metadata": {
            "tags": []
          },
          "execution_count": 3
        }
      ]
    },
    {
      "cell_type": "markdown",
      "metadata": {
        "id": "pQsmegq01RFM"
      },
      "source": [
        "The remaining questions deal with two coins.\n",
        "\n",
        "**Coin 1** is **fair**. When flipped it has a probability of **0.5 for heads** and **0.5 for tails**.\n",
        "\n",
        "**Coin 2** is **biased**. When flipped it has a probability of **0.9 for heads** and **0.1 for tails**.\n",
        "\n",
        "### Q4\n",
        "\n",
        "You grab one of these two coins at random (equally likely that you grabbed coin 1 or 2) and you flip it. What's the probability it comes up heads?\n",
        "\n",
        "$Solution:$\n",
        "\n",
        "$$\n",
        "P(H) = chance * H\\\\\n",
        "$$\n",
        "$$\n",
        "P_{coin1}(H) = 0.5 * 0.5\\\\\n",
        "P_{coin1}(H) = 0.25\\\\\n",
        "$$\n",
        "$$\n",
        "P_{coin2}(H) = 0.5 * 0.9\\\\\n",
        "P_{coin2}(H) = 0.45\\\\\n",
        "$$\n",
        "$$\n",
        "P(H) = 0.25 + 0.45\\\\\n",
        "P(H) = 0.7\n",
        "$$"
      ]
    },
    {
      "cell_type": "code",
      "metadata": {
        "colab": {
          "base_uri": "https://localhost:8080/"
        },
        "id": "BbRPJjPz1oek",
        "outputId": "50fb6477-28f8-4301-867a-7051860131bc"
      },
      "source": [
        "(0.5 * 0.5) + (0.5 * 0.9)"
      ],
      "execution_count": null,
      "outputs": [
        {
          "output_type": "execute_result",
          "data": {
            "text/plain": [
              "0.7"
            ]
          },
          "metadata": {
            "tags": []
          },
          "execution_count": 10
        }
      ]
    },
    {
      "cell_type": "markdown",
      "metadata": {
        "id": "ZioeFihL3psL"
      },
      "source": [
        "## Q5\n",
        "\n",
        "You grab a coin at random and flip it twice.\n",
        "\n",
        "What's the probability that it comes up tails both times?\n",
        "\n",
        "\n",
        "$Find: P(T,T)$\n",
        "\n",
        "$Solution:$\n",
        "\n",
        "$$\n",
        "P_{coin1}(T,T) = T * T * chance\\\\\n",
        "$$\n",
        "\\\n",
        "$$\n",
        "P_{coin1}(T,T) = 0.5 * 0.5 * 0.5\\\\\n",
        "P_{coin1}(T,T) = 0.125\n",
        "$$\n",
        "\\\n",
        "$$\n",
        "P_{coin2}(T,T) = 0.1 * 0.1 * 0.5\\\\\n",
        "P_{coin2}(T,T) = 0.005\n",
        "$$\n",
        "\\\n",
        "$$\n",
        "P(T,T) = 0.005\\,\\,+\\,\\,0.125\\\\\n",
        "P(T,T) = 0.13 \n",
        "$$"
      ]
    },
    {
      "cell_type": "code",
      "metadata": {
        "colab": {
          "base_uri": "https://localhost:8080/"
        },
        "id": "nV5BovBX3u2z",
        "outputId": "00c4a9a9-ed92-4f1d-d4e0-709047a236b5"
      },
      "source": [
        "(.1*.1*.5)+(.5 * .5 * .5)"
      ],
      "execution_count": null,
      "outputs": [
        {
          "output_type": "execute_result",
          "data": {
            "text/plain": [
              "0.13"
            ]
          },
          "metadata": {
            "tags": []
          },
          "execution_count": 14
        }
      ]
    }
  ]
}