{
  "nbformat": 4,
  "nbformat_minor": 0,
  "metadata": {
    "colab": {
      "name": "Conditional Probability.ipynb",
      "provenance": [],
      "collapsed_sections": []
    },
    "kernelspec": {
      "name": "python3",
      "display_name": "Python 3"
    },
    "language_info": {
      "name": "python"
    }
  },
  "cells": [
    {
      "cell_type": "markdown",
      "metadata": {
        "id": "x8hV-lPvHSqR"
      },
      "source": [
        "## Two Coins\n",
        "\n",
        "##Q1\n",
        "Given two coins where coin 1 is fair and coin 2 is loaded:\n",
        "\n",
        "|   Given:        |Find:        |\n",
        "|-----------------|-------------|\n",
        "| $p_{1}$(H)= 0.5 | $p_{1}$(T)= |\n",
        "| $p_{2}$(H)= 0.9 | $p_{2}$(T)= |\n",
        "\n"
      ]
    },
    {
      "cell_type": "code",
      "metadata": {
        "colab": {
          "base_uri": "https://localhost:8080/"
        },
        "id": "I3-KoVa_Hz-E",
        "outputId": "b4ccbb3f-688d-4852-c33a-9edfcbad5977"
      },
      "source": [
        "# Given: \n",
        "p1H = .5 \n",
        "p2H = .9\n",
        "equal_chance = .5\n",
        "\n",
        "# Solution\n",
        "p1T = 1 - p1H \n",
        "p2T = 1 - p2H\n",
        "\n",
        "print('p1T: ' ,p1T)\n",
        "print('p2T: ' ,round(p2T,1))"
      ],
      "execution_count": 51,
      "outputs": [
        {
          "output_type": "stream",
          "text": [
            "p1T:  0.5\n",
            "p2T:  0.1\n"
          ],
          "name": "stdout"
        }
      ]
    },
    {
      "cell_type": "markdown",
      "metadata": {
        "id": "nIdcfNE4LQb0"
      },
      "source": [
        "## Q2\n",
        "Suppose one of these coins is picked up and flipped. What is the probability that one of the coin will land on heads?\n",
        "**P(H) = ?**"
      ]
    },
    {
      "cell_type": "code",
      "metadata": {
        "colab": {
          "base_uri": "https://localhost:8080/"
        },
        "id": "X1ZiYUQzLMom",
        "outputId": "44174220-9be6-4b5a-8262-29ef43918608"
      },
      "source": [
        "# Solution\n",
        "# .5 since these two coins have equal chances of being picked up\n",
        "pH = (p1H * equal_chance) + (p2H * equal_chance)\n",
        "print('probablility of heads: ',pH)"
      ],
      "execution_count": 52,
      "outputs": [
        {
          "output_type": "stream",
          "text": [
            "probablility of heads:  0.7\n"
          ],
          "name": "stdout"
        }
      ]
    },
    {
      "cell_type": "markdown",
      "metadata": {
        "id": "ocQFhVAtM5UU"
      },
      "source": [
        "## Q3\n",
        "You are picking only one coin from the bag, then flipping that one coin twice and observing heads then tails. \n",
        "\n",
        "What is the probability of seeing heads first then tail second?"
      ]
    },
    {
      "cell_type": "code",
      "metadata": {
        "id": "daFIvk_1MCM7"
      },
      "source": [
        "from itertools import product\n",
        "import pandas as pd"
      ],
      "execution_count": 20,
      "outputs": []
    },
    {
      "cell_type": "code",
      "metadata": {
        "colab": {
          "base_uri": "https://localhost:8080/",
          "height": 297
        },
        "id": "u2j2JruwNVUP",
        "outputId": "0a52ff3c-311e-49cf-9027-c47005803d9c"
      },
      "source": [
        "# result of 2 coin flips\n",
        "coin_flips = list(product( ('HT'), repeat=2) )\n",
        "\n",
        "# convert to dataframe \n",
        "df = pd.DataFrame(data=coin_flips)\n",
        "\n",
        "df.columns = ['flip_1','flip_2']\n",
        "\n",
        "# make a copy of the first coin flip for coin number 1\n",
        "df1 = df\n",
        "\n",
        "# add copy as coin flip number 2 \n",
        "df = df1.append(df)\n",
        "\n",
        "# add proper labels\n",
        "df.index = ['coin_1','coin_1','coin_1','coin_1','coin_2','coin_2','coin_2','coin_2']\n",
        "\n",
        "df"
      ],
      "execution_count": 53,
      "outputs": [
        {
          "output_type": "execute_result",
          "data": {
            "text/html": [
              "<div>\n",
              "<style scoped>\n",
              "    .dataframe tbody tr th:only-of-type {\n",
              "        vertical-align: middle;\n",
              "    }\n",
              "\n",
              "    .dataframe tbody tr th {\n",
              "        vertical-align: top;\n",
              "    }\n",
              "\n",
              "    .dataframe thead th {\n",
              "        text-align: right;\n",
              "    }\n",
              "</style>\n",
              "<table border=\"1\" class=\"dataframe\">\n",
              "  <thead>\n",
              "    <tr style=\"text-align: right;\">\n",
              "      <th></th>\n",
              "      <th>flip_1</th>\n",
              "      <th>flip_2</th>\n",
              "    </tr>\n",
              "  </thead>\n",
              "  <tbody>\n",
              "    <tr>\n",
              "      <th>coin_1</th>\n",
              "      <td>H</td>\n",
              "      <td>H</td>\n",
              "    </tr>\n",
              "    <tr>\n",
              "      <th>coin_1</th>\n",
              "      <td>H</td>\n",
              "      <td>T</td>\n",
              "    </tr>\n",
              "    <tr>\n",
              "      <th>coin_1</th>\n",
              "      <td>T</td>\n",
              "      <td>H</td>\n",
              "    </tr>\n",
              "    <tr>\n",
              "      <th>coin_1</th>\n",
              "      <td>T</td>\n",
              "      <td>T</td>\n",
              "    </tr>\n",
              "    <tr>\n",
              "      <th>coin_2</th>\n",
              "      <td>H</td>\n",
              "      <td>H</td>\n",
              "    </tr>\n",
              "    <tr>\n",
              "      <th>coin_2</th>\n",
              "      <td>H</td>\n",
              "      <td>T</td>\n",
              "    </tr>\n",
              "    <tr>\n",
              "      <th>coin_2</th>\n",
              "      <td>T</td>\n",
              "      <td>H</td>\n",
              "    </tr>\n",
              "    <tr>\n",
              "      <th>coin_2</th>\n",
              "      <td>T</td>\n",
              "      <td>T</td>\n",
              "    </tr>\n",
              "  </tbody>\n",
              "</table>\n",
              "</div>"
            ],
            "text/plain": [
              "       flip_1 flip_2\n",
              "coin_1      H      H\n",
              "coin_1      H      T\n",
              "coin_1      T      H\n",
              "coin_1      T      T\n",
              "coin_2      H      H\n",
              "coin_2      H      T\n",
              "coin_2      T      H\n",
              "coin_2      T      T"
            ]
          },
          "metadata": {
            "tags": []
          },
          "execution_count": 53
        }
      ]
    },
    {
      "cell_type": "code",
      "metadata": {
        "colab": {
          "base_uri": "https://localhost:8080/"
        },
        "id": "mqXNtDz9OS2_",
        "outputId": "3d6e34c2-1580-4ee4-fd68-8fe0a2ce87d1"
      },
      "source": [
        "# the Truth tables shows two instances where this might happen\n",
        "# next steps is to compute the values for these two scenarios\n",
        "\n",
        "coin_1_H_T = p1H * p1T * equal_chance\n",
        "coin_1_H_T  "
      ],
      "execution_count": 56,
      "outputs": [
        {
          "output_type": "execute_result",
          "data": {
            "text/plain": [
              "0.125"
            ]
          },
          "metadata": {
            "tags": []
          },
          "execution_count": 56
        }
      ]
    },
    {
      "cell_type": "code",
      "metadata": {
        "colab": {
          "base_uri": "https://localhost:8080/"
        },
        "id": "gQ5hYbq2Nubf",
        "outputId": "563697e9-2d0b-41ce-accf-a34ad62a841d"
      },
      "source": [
        "coin_2_H_T = p2H * p2T * equal_chance\n",
        "coin_2_H_T"
      ],
      "execution_count": 57,
      "outputs": [
        {
          "output_type": "execute_result",
          "data": {
            "text/plain": [
              "0.04499999999999999"
            ]
          },
          "metadata": {
            "tags": []
          },
          "execution_count": 57
        }
      ]
    },
    {
      "cell_type": "code",
      "metadata": {
        "colab": {
          "base_uri": "https://localhost:8080/"
        },
        "id": "FrFkBP0hV76f",
        "outputId": "dd05843b-0d5d-4fb0-ba33-3093a771c4ef"
      },
      "source": [
        "# final answer\n",
        "round(coin_1_H_T  + coin_2_H_T,2)"
      ],
      "execution_count": 60,
      "outputs": [
        {
          "output_type": "execute_result",
          "data": {
            "text/plain": [
              "0.17"
            ]
          },
          "metadata": {
            "tags": []
          },
          "execution_count": 60
        }
      ]
    },
    {
      "cell_type": "markdown",
      "metadata": {
        "id": "ximnNBgbX7G5"
      },
      "source": [
        "## Q4\n",
        "\n",
        "Given:\n",
        "\n"
      ]
    },
    {
      "cell_type": "code",
      "metadata": {
        "id": "genW40mYWE4R"
      },
      "source": [
        "p1H = 1 \n",
        "p2H = .6\n",
        "equal_chance = .5"
      ],
      "execution_count": 61,
      "outputs": []
    },
    {
      "cell_type": "code",
      "metadata": {
        "id": "tH2N2zpAYWvT"
      },
      "source": [
        "# Step 1, find complements\n",
        " \n",
        "p1T = 0\n",
        "p2T = 1 - p2H"
      ],
      "execution_count": 67,
      "outputs": []
    },
    {
      "cell_type": "code",
      "metadata": {
        "colab": {
          "base_uri": "https://localhost:8080/"
        },
        "id": "dpxm9qcQYrWa",
        "outputId": "acc4e79c-63b1-4aa4-ccc3-00cdb6131883"
      },
      "source": [
        "# Compute scenario 1\n",
        "\n",
        "coin_1_T_T = p1T * p1T * equal_chance\n",
        "coin_1_T_T"
      ],
      "execution_count": 68,
      "outputs": [
        {
          "output_type": "execute_result",
          "data": {
            "text/plain": [
              "0.0"
            ]
          },
          "metadata": {
            "tags": []
          },
          "execution_count": 68
        }
      ]
    },
    {
      "cell_type": "code",
      "metadata": {
        "colab": {
          "base_uri": "https://localhost:8080/"
        },
        "id": "hRNKb-lLZTcL",
        "outputId": "eeb4d0f4-76a4-4f6f-e268-47f4769a390f"
      },
      "source": [
        "# Compute scenario 2\n",
        "\n",
        "coin_2_T_T = p2T * p2T * equal_chance\n",
        "coin_2_T_T"
      ],
      "execution_count": 69,
      "outputs": [
        {
          "output_type": "execute_result",
          "data": {
            "text/plain": [
              "0.08000000000000002"
            ]
          },
          "metadata": {
            "tags": []
          },
          "execution_count": 69
        }
      ]
    },
    {
      "cell_type": "code",
      "metadata": {
        "colab": {
          "base_uri": "https://localhost:8080/"
        },
        "id": "yRRW9sG8ZYuQ",
        "outputId": "b803935e-b08c-43eb-9efb-226085826940"
      },
      "source": [
        "# Add scenario 1 and scenario 2 for final answer\n",
        "\n",
        "print('The chance of landing Tails, Tails: ',round(coin_1_T_T + coin_2_T_T,2))"
      ],
      "execution_count": 79,
      "outputs": [
        {
          "output_type": "stream",
          "text": [
            "The chance of landing Tails, Tails:  0.08\n"
          ],
          "name": "stdout"
        }
      ]
    }
  ]
}