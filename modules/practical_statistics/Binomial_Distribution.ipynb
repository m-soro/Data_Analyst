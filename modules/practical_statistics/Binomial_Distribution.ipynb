{
  "nbformat": 4,
  "nbformat_minor": 0,
  "metadata": {
    "colab": {
      "name": "Binomial_Distribution.ipynb",
      "provenance": [],
      "collapsed_sections": []
    },
    "kernelspec": {
      "name": "python3",
      "display_name": "Python 3"
    },
    "language_info": {
      "name": "python"
    }
  },
  "cells": [
    {
      "cell_type": "code",
      "metadata": {
        "id": "_6VuyOSGNfh-"
      },
      "source": [
        "from itertools import product\n",
        "import pandas as pd"
      ],
      "execution_count": 33,
      "outputs": []
    },
    {
      "cell_type": "code",
      "metadata": {
        "id": "cQtNGf8tEX-Z"
      },
      "source": [
        "def fair_coin(flips,k_number):\n",
        "    # Flip coin\n",
        "    coin_flips = list(product(\"HT\", repeat=flips) )\n",
        "\n",
        "    # Convert to dataframe\n",
        "    df = pd.DataFrame(data=coin_flips)\n",
        "\n",
        "    # I'm interested in Heads\n",
        "    outcome = ['H']\n",
        "\n",
        "    # add a column that tells me how many HEADS is in each row\n",
        "    df['occurences'] = df.isin(outcome).sum(1)\n",
        "    \n",
        "    result = df.query('occurences == @k_number')\n",
        "    print('A fair coin flipped', flips, 'times with', k_number, 'number of heads will show up', result.shape[0], 'times.')\n",
        "\n",
        "    return result"
      ],
      "execution_count": 53,
      "outputs": []
    },
    {
      "cell_type": "code",
      "metadata": {
        "colab": {
          "base_uri": "https://localhost:8080/",
          "height": 252
        },
        "id": "wpya9-izCmV5",
        "outputId": "da52387e-543f-40a5-8f48-604797c97150"
      },
      "source": [
        "fair_coin(6,5)"
      ],
      "execution_count": 96,
      "outputs": [
        {
          "output_type": "stream",
          "text": [
            "A fair coin flipped 6 times with 5 number of heads will show up 6 times.\n"
          ],
          "name": "stdout"
        },
        {
          "output_type": "execute_result",
          "data": {
            "text/html": [
              "<div>\n",
              "<style scoped>\n",
              "    .dataframe tbody tr th:only-of-type {\n",
              "        vertical-align: middle;\n",
              "    }\n",
              "\n",
              "    .dataframe tbody tr th {\n",
              "        vertical-align: top;\n",
              "    }\n",
              "\n",
              "    .dataframe thead th {\n",
              "        text-align: right;\n",
              "    }\n",
              "</style>\n",
              "<table border=\"1\" class=\"dataframe\">\n",
              "  <thead>\n",
              "    <tr style=\"text-align: right;\">\n",
              "      <th></th>\n",
              "      <th>0</th>\n",
              "      <th>1</th>\n",
              "      <th>2</th>\n",
              "      <th>3</th>\n",
              "      <th>4</th>\n",
              "      <th>5</th>\n",
              "      <th>occurences</th>\n",
              "    </tr>\n",
              "  </thead>\n",
              "  <tbody>\n",
              "    <tr>\n",
              "      <th>1</th>\n",
              "      <td>H</td>\n",
              "      <td>H</td>\n",
              "      <td>H</td>\n",
              "      <td>H</td>\n",
              "      <td>H</td>\n",
              "      <td>T</td>\n",
              "      <td>5</td>\n",
              "    </tr>\n",
              "    <tr>\n",
              "      <th>2</th>\n",
              "      <td>H</td>\n",
              "      <td>H</td>\n",
              "      <td>H</td>\n",
              "      <td>H</td>\n",
              "      <td>T</td>\n",
              "      <td>H</td>\n",
              "      <td>5</td>\n",
              "    </tr>\n",
              "    <tr>\n",
              "      <th>4</th>\n",
              "      <td>H</td>\n",
              "      <td>H</td>\n",
              "      <td>H</td>\n",
              "      <td>T</td>\n",
              "      <td>H</td>\n",
              "      <td>H</td>\n",
              "      <td>5</td>\n",
              "    </tr>\n",
              "    <tr>\n",
              "      <th>8</th>\n",
              "      <td>H</td>\n",
              "      <td>H</td>\n",
              "      <td>T</td>\n",
              "      <td>H</td>\n",
              "      <td>H</td>\n",
              "      <td>H</td>\n",
              "      <td>5</td>\n",
              "    </tr>\n",
              "    <tr>\n",
              "      <th>16</th>\n",
              "      <td>H</td>\n",
              "      <td>T</td>\n",
              "      <td>H</td>\n",
              "      <td>H</td>\n",
              "      <td>H</td>\n",
              "      <td>H</td>\n",
              "      <td>5</td>\n",
              "    </tr>\n",
              "    <tr>\n",
              "      <th>32</th>\n",
              "      <td>T</td>\n",
              "      <td>H</td>\n",
              "      <td>H</td>\n",
              "      <td>H</td>\n",
              "      <td>H</td>\n",
              "      <td>H</td>\n",
              "      <td>5</td>\n",
              "    </tr>\n",
              "  </tbody>\n",
              "</table>\n",
              "</div>"
            ],
            "text/plain": [
              "    0  1  2  3  4  5  occurences\n",
              "1   H  H  H  H  H  T           5\n",
              "2   H  H  H  H  T  H           5\n",
              "4   H  H  H  T  H  H           5\n",
              "8   H  H  T  H  H  H           5\n",
              "16  H  T  H  H  H  H           5\n",
              "32  T  H  H  H  H  H           5"
            ]
          },
          "metadata": {
            "tags": []
          },
          "execution_count": 96
        }
      ]
    },
    {
      "cell_type": "code",
      "metadata": {
        "id": "k9glELcMEaoB"
      },
      "source": [
        "def loaded_coin(flips,k_number,load):\n",
        "    # Flip coin\n",
        "    coin_flips = list(product((load, round(1-load,2)), repeat=flips))\n",
        "\n",
        "    # Convert to dataframe\n",
        "    df = pd.DataFrame(data=coin_flips)\n",
        "\n",
        "    # I'm interested in Heads\n",
        "    outcome = [load]\n",
        "\n",
        "    # add a column that tells me how many HEADS is in each row\n",
        "    df['occurences'] = df.isin(outcome).sum(1)\n",
        "    \n",
        "    result = df.query('occurences == @k_number')\n",
        "    print('A loaded coin with load of', load, ' when flipped', flips ,'times with', k_number, 'number of heads will show up', result.shape[0], 'times.')\n",
        "\n",
        "    return result\n"
      ],
      "execution_count": 97,
      "outputs": []
    },
    {
      "cell_type": "code",
      "metadata": {
        "colab": {
          "base_uri": "https://localhost:8080/",
          "height": 376
        },
        "id": "vyHUh8-vFGwP",
        "outputId": "75e90bfe-0c4a-4249-8678-7fdff651d943"
      },
      "source": [
        "loaded_coin(5,3,.8)"
      ],
      "execution_count": 58,
      "outputs": [
        {
          "output_type": "stream",
          "text": [
            "A loaded coin with load of 0.8  when flipped 5 times with 3 number of heads will show up 10 times.\n"
          ],
          "name": "stdout"
        },
        {
          "output_type": "execute_result",
          "data": {
            "text/html": [
              "<div>\n",
              "<style scoped>\n",
              "    .dataframe tbody tr th:only-of-type {\n",
              "        vertical-align: middle;\n",
              "    }\n",
              "\n",
              "    .dataframe tbody tr th {\n",
              "        vertical-align: top;\n",
              "    }\n",
              "\n",
              "    .dataframe thead th {\n",
              "        text-align: right;\n",
              "    }\n",
              "</style>\n",
              "<table border=\"1\" class=\"dataframe\">\n",
              "  <thead>\n",
              "    <tr style=\"text-align: right;\">\n",
              "      <th></th>\n",
              "      <th>0</th>\n",
              "      <th>1</th>\n",
              "      <th>2</th>\n",
              "      <th>3</th>\n",
              "      <th>4</th>\n",
              "      <th>occurences</th>\n",
              "    </tr>\n",
              "  </thead>\n",
              "  <tbody>\n",
              "    <tr>\n",
              "      <th>3</th>\n",
              "      <td>0.8</td>\n",
              "      <td>0.8</td>\n",
              "      <td>0.8</td>\n",
              "      <td>0.2</td>\n",
              "      <td>0.2</td>\n",
              "      <td>3</td>\n",
              "    </tr>\n",
              "    <tr>\n",
              "      <th>5</th>\n",
              "      <td>0.8</td>\n",
              "      <td>0.8</td>\n",
              "      <td>0.2</td>\n",
              "      <td>0.8</td>\n",
              "      <td>0.2</td>\n",
              "      <td>3</td>\n",
              "    </tr>\n",
              "    <tr>\n",
              "      <th>6</th>\n",
              "      <td>0.8</td>\n",
              "      <td>0.8</td>\n",
              "      <td>0.2</td>\n",
              "      <td>0.2</td>\n",
              "      <td>0.8</td>\n",
              "      <td>3</td>\n",
              "    </tr>\n",
              "    <tr>\n",
              "      <th>9</th>\n",
              "      <td>0.8</td>\n",
              "      <td>0.2</td>\n",
              "      <td>0.8</td>\n",
              "      <td>0.8</td>\n",
              "      <td>0.2</td>\n",
              "      <td>3</td>\n",
              "    </tr>\n",
              "    <tr>\n",
              "      <th>10</th>\n",
              "      <td>0.8</td>\n",
              "      <td>0.2</td>\n",
              "      <td>0.8</td>\n",
              "      <td>0.2</td>\n",
              "      <td>0.8</td>\n",
              "      <td>3</td>\n",
              "    </tr>\n",
              "    <tr>\n",
              "      <th>12</th>\n",
              "      <td>0.8</td>\n",
              "      <td>0.2</td>\n",
              "      <td>0.2</td>\n",
              "      <td>0.8</td>\n",
              "      <td>0.8</td>\n",
              "      <td>3</td>\n",
              "    </tr>\n",
              "    <tr>\n",
              "      <th>17</th>\n",
              "      <td>0.2</td>\n",
              "      <td>0.8</td>\n",
              "      <td>0.8</td>\n",
              "      <td>0.8</td>\n",
              "      <td>0.2</td>\n",
              "      <td>3</td>\n",
              "    </tr>\n",
              "    <tr>\n",
              "      <th>18</th>\n",
              "      <td>0.2</td>\n",
              "      <td>0.8</td>\n",
              "      <td>0.8</td>\n",
              "      <td>0.2</td>\n",
              "      <td>0.8</td>\n",
              "      <td>3</td>\n",
              "    </tr>\n",
              "    <tr>\n",
              "      <th>20</th>\n",
              "      <td>0.2</td>\n",
              "      <td>0.8</td>\n",
              "      <td>0.2</td>\n",
              "      <td>0.8</td>\n",
              "      <td>0.8</td>\n",
              "      <td>3</td>\n",
              "    </tr>\n",
              "    <tr>\n",
              "      <th>24</th>\n",
              "      <td>0.2</td>\n",
              "      <td>0.2</td>\n",
              "      <td>0.8</td>\n",
              "      <td>0.8</td>\n",
              "      <td>0.8</td>\n",
              "      <td>3</td>\n",
              "    </tr>\n",
              "  </tbody>\n",
              "</table>\n",
              "</div>"
            ],
            "text/plain": [
              "      0    1    2    3    4  occurences\n",
              "3   0.8  0.8  0.8  0.2  0.2           3\n",
              "5   0.8  0.8  0.2  0.8  0.2           3\n",
              "6   0.8  0.8  0.2  0.2  0.8           3\n",
              "9   0.8  0.2  0.8  0.8  0.2           3\n",
              "10  0.8  0.2  0.8  0.2  0.8           3\n",
              "12  0.8  0.2  0.2  0.8  0.8           3\n",
              "17  0.2  0.8  0.8  0.8  0.2           3\n",
              "18  0.2  0.8  0.8  0.2  0.8           3\n",
              "20  0.2  0.8  0.2  0.8  0.8           3\n",
              "24  0.2  0.2  0.8  0.8  0.8           3"
            ]
          },
          "metadata": {
            "tags": []
          },
          "execution_count": 58
        }
      ]
    },
    {
      "cell_type": "code",
      "metadata": {
        "id": "8eYH0XXV7PrN"
      },
      "source": [
        "# Flip coin 12 times, find P(#Heads = 9), H load =0.8\n",
        "\n",
        "def binomial_dist(n_times,k_number,load):\n",
        "    n_factorial = [n for n in range(1,n_times+1)][(n_times-k_number):]\n",
        "    k_factorial = [n for n in range(1,k_number+1)]\n",
        "\n",
        "    def factorial(factorial):\n",
        "        result = 1\n",
        "        for n in factorial:\n",
        "          result *= n\n",
        "        return result   \n",
        "\n",
        "    probability = ((factorial(n_factorial))/(factorial(k_factorial))) * (load**k_number) * ((1-load)**(n_times-k_number))\n",
        "    return probability  "
      ],
      "execution_count": 98,
      "outputs": []
    },
    {
      "cell_type": "code",
      "metadata": {
        "colab": {
          "base_uri": "https://localhost:8080/"
        },
        "id": "XwdIZGkXADQo",
        "outputId": "5136074d-f6a5-4e57-9cd7-428cb8fb0991"
      },
      "source": [
        "binomial_dist(12,9,.8)"
      ],
      "execution_count": 95,
      "outputs": [
        {
          "output_type": "execute_result",
          "data": {
            "text/plain": [
              "0.23622320128"
            ]
          },
          "metadata": {
            "tags": []
          },
          "execution_count": 95
        }
      ]
    }
  ]
}