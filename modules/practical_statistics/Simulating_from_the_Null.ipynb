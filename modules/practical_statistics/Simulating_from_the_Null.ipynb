{
 "cells": [
  {
   "cell_type": "markdown",
   "metadata": {},
   "source": [
    "### Simulating From the Null Hypothesis\n",
    "\n",
    "Load in the data below, and use the exercises to assist with answering the quiz questions below.\n",
    "\n",
    "**If you get stuck, notice there is a solution notebook available by clicking on the orange jupyter icon in the top left!**"
   ]
  },
  {
   "cell_type": "code",
   "execution_count": 3,
   "metadata": {},
   "outputs": [],
   "source": [
    "import pandas as pd\n",
    "import numpy as np\n",
    "import matplotlib.pyplot as plt\n",
    "\n",
    "%matplotlib inline\n",
    "np.random.seed(42)\n",
    "\n",
    "full_data = pd.read_csv('coffee_dataset.csv')\n",
    "sample_data = full_data.sample(200)"
   ]
  },
  {
   "cell_type": "markdown",
   "metadata": {},
   "source": [
    "`1.` If you were interested in studying whether the average height for coffee drinkers is the same as for non-coffee drinkers, what would the null and alternative hypotheses be?  Write them in the cell below, and use your answer to answer the first quiz question below."
   ]
  },
  {
   "cell_type": "markdown",
   "metadata": {},
   "source": [
    "$$\\large H_0: \\mu_{coff} == \\mu_{noncoff}\\\\\n",
    "  \\large H_1: \\mu_{coff} != \\mu_{noncoff}\n",
    "$$\n",
    "\n",
    "**Null**: The average height for all coffee drinkers is the same as the average height for all non-coffee drinkers.\n",
    "\n",
    "**Alternative** : The average height for all coffee drinkers is not the same as the average height for all non-coffee drinkers."
   ]
  },
  {
   "cell_type": "markdown",
   "metadata": {},
   "source": [
    "`2.` If you were interested in studying whether the average height for coffee drinkers is less than non-coffee drinkers, what would the null and alternative hypotheses be?  Write them in the cell below, and use your answer to answer the second quiz question below."
   ]
  },
  {
   "cell_type": "markdown",
   "metadata": {},
   "source": [
    "$$\\large H_0: \\mu_{coff} - \\mu_{noncoff} \\geq 0\\\\\n",
    "  \\large H_1: \\mu_{coff} - \\mu_{noncoff} < 0\n",
    "$$\n",
    "\n",
    "**Null**: The average height for all coffee drinkers is the same  or greater than the average height for all non-coffee drinkers.\n",
    "\n",
    "**Alternative**: The average height for all coffee drinkers is less than the average height for all non-coffee drinkers."
   ]
  },
  {
   "cell_type": "markdown",
   "metadata": {},
   "source": [
    "`3.` For 10,000 iterations: bootstrap the sample data, calculate the mean height for coffee drinkers and non-coffee drinkers, and calculate the difference in means for each sample.  You will want to have three arrays at the end of the iterations - one for each mean and one for the difference in means.  Use the results of your sampling distribution, to answer the third quiz question below."
   ]
  },
  {
   "cell_type": "code",
   "execution_count": 5,
   "metadata": {},
   "outputs": [],
   "source": [
    "boot_means_coff_height = []\n",
    "boot_means_non_coff_height = []\n",
    "diffs = []\n",
    "\n",
    "for n in range(10000):\n",
    "    bootsample = sample_data.sample(200, replace=True)\n",
    "    boot_means_coff_height.append(bootsample.query('drinks_coffee == True').height.mean())\n",
    "    boot_means_non_coff_height.append(bootsample.query('drinks_coffee == False').height.mean())\n",
    "    diffs.append(bootsample.query('drinks_coffee == True').height.mean() - bootsample.query('drinks_coffee == False').height.mean())"
   ]
  },
  {
   "cell_type": "code",
   "execution_count": 28,
   "metadata": {},
   "outputs": [
    {
     "data": {
      "image/png": "[encoded data removed]",
      "text/plain": [
       "<matplotlib.figure.Figure at 0x7fa2fc83b748>"
      ]
     },
     "metadata": {
      "needs_background": "light"
     },
     "output_type": "display_data"
    }
   ],
   "source": [
    "plt.hist(boot_means_coff_height, alpha = 0.5);\n",
    "plt.hist(boot_means_non_coff_height, alpha = 0.5);"
   ]
  },
  {
   "cell_type": "code",
   "execution_count": 10,
   "metadata": {},
   "outputs": [
    {
     "data": {
      "image/png": "[encoded data removed]",
      "text/plain": [
       "<matplotlib.figure.Figure at 0x7fa2fc8f6320>"
      ]
     },
     "metadata": {
      "needs_background": "light"
     },
     "output_type": "display_data"
    }
   ],
   "source": [
    "plt.hist(diffs);"
   ]
  },
  {
   "cell_type": "code",
   "execution_count": 13,
   "metadata": {},
   "outputs": [
    {
     "name": "stdout",
     "output_type": "stream",
     "text": [
      "std of coff drinkers:  0.405126312775\n",
      "std of Non coff drinkers:  0.240737633735\n",
      "std of difference in means :  0.469809107439\n",
      "Normal\n",
      "Central Limit Theorem\n"
     ]
    }
   ],
   "source": [
    "# 1. The standard deviation of the sampling distribution for the mean of those that do not drink coffee.\n",
    "print('std of coff drinkers: ',np.std(boot_means_non_coff_height))\n",
    "# 2. The standard deviation of the sampling distribution for the mean of those that drink coffee.\n",
    "print('std of Non coff drinkers: ',np.std(boot_means_coff_height))\n",
    "# 3. The standard deviation of the sampling distribution for the difference in means of those that drink coffee and those that do not.\n",
    "print('std of difference in means : ',np.std(diffs))\n",
    "# 4. What is the shape of each sampling distribution?\n",
    "print('Normal')\n",
    "# 5. What is the reason for the shape of each of these distributions?\n",
    "print('Central Limit Theorem')"
   ]
  },
  {
   "cell_type": "markdown",
   "metadata": {},
   "source": [
    "**Notice** the **standard deviation** with the **difference in means** is **larger than either of the individual** at **0.4698**. It turns out that this value for the standard deviation of the difference is actually the square root of the sum of the variance of each of the individual sampling distributions. And the mean has a standard deviation of the original draws divided by the square root of the sample size taken. More on this [here](http://www.statsmodels.org/stable/glm.html) and [here](http://onlinestatbook.com/2/sampling_distributions/samp_dist_mean.html)."
   ]
  },
  {
   "cell_type": "markdown",
   "metadata": {},
   "source": [
    "`4.` Now, use your observed sampling distribution for the difference in means and [the docs](https://docs.scipy.org/doc/numpy-1.13.0/reference/generated/numpy.random.normal.html) to simulate what you would expect the sampling distribution to be if the null hypothesis is true. You can do this be recentering your distribution at zero. Also, calculate the observed sample mean difference in `sample_data`. Use your solutions to answer the last questions in the quiz below."
   ]
  },
  {
   "cell_type": "code",
   "execution_count": 25,
   "metadata": {},
   "outputs": [
    {
     "data": {
      "image/png": "[encoded data removed]",
      "text/plain": [
       "<matplotlib.figure.Figure at 0x7fa2fc7e6e48>"
      ]
     },
     "metadata": {
      "needs_background": "light"
     },
     "output_type": "display_data"
    }
   ],
   "source": [
    "null_vals = np.random.normal(0.0, np.std(diffs), 10000)\n",
    "plt.hist(null_vals);"
   ]
  },
  {
   "cell_type": "code",
   "execution_count": 27,
   "metadata": {},
   "outputs": [
    {
     "data": {
      "text/plain": [
       "1.3347071093073879"
      ]
     },
     "execution_count": 27,
     "metadata": {},
     "output_type": "execute_result"
    }
   ],
   "source": [
    "# Calculate the observe sample mean difference in sample_data\n",
    "\n",
    "mean_ht_coff_drinkers = sample_data.query('drinks_coffee == True').height.mean()\n",
    "mean_ht_non_coff_drinkers = sample_data.query('drinks_coffee == False').height.mean()\n",
    "mean_ht_coff_drinkers - mean_ht_non_coff_drinkers"
   ]
  },
  {
   "cell_type": "markdown",
   "metadata": {
    "collapsed": true
   },
   "source": [
    "* We can expect the standard deviation of the sampling distribution for differences from the null to be essentially the same as what we observed from the data.\n",
    "\n",
    "* If the null hypothesis is true, we would expect the difference in means of coffee drinkers and non-drinkers to be zero."
   ]
  }
 ],
 "metadata": {
  "kernelspec": {
   "display_name": "Python 3",
   "language": "python",
   "name": "python3"
  },
  "language_info": {
   "codemirror_mode": {
    "name": "ipython",
    "version": 3
   },
   "file_extension": ".py",
   "mimetype": "text/x-python",
   "name": "python",
   "nbconvert_exporter": "python",
   "pygments_lexer": "ipython3",
   "version": "3.6.3"
  }
 },
 "nbformat": 4,
 "nbformat_minor": 2
}
