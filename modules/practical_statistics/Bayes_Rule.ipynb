{
  "nbformat": 4,
  "nbformat_minor": 0,
  "metadata": {
    "colab": {
      "name": "Bayes Rule.ipynb",
      "provenance": [],
      "collapsed_sections": []
    },
    "kernelspec": {
      "name": "python3",
      "display_name": "Python 3"
    },
    "language_info": {
      "name": "python"
    }
  },
  "cells": [
    {
      "cell_type": "code",
      "metadata": {
        "id": "LBMrskSTYPXC",
        "cellView": "form"
      },
      "source": [
        "#@title import statement\n",
        "from IPython.display import HTML"
      ],
      "execution_count": 1,
      "outputs": []
    },
    {
      "cell_type": "code",
      "metadata": {
        "id": "tUG67M4xX0nF",
        "cellView": "form",
        "colab": {
          "base_uri": "https://localhost:8080/",
          "height": 575
        },
        "outputId": "c67020e2-53ff-4687-a467-16f49d80543c"
      },
      "source": [
        "#@title Bayes Rule Explanation\n",
        "# explanation\n",
        "HTML('<iframe width=\"984\" height=\"554\" src=\"https://www.youtube.com/embed/fAaE5K9OZJc\" title=\"YouTube video player\" frameborder=\"0\" allow=\"accelerometer; autoplay; clipboard-write; encrypted-media; gyroscope; picture-in-picture\" allowfullscreen></iframe>')"
      ],
      "execution_count": 2,
      "outputs": [
        {
          "output_type": "execute_result",
          "data": {
            "text/html": [
              "<iframe width=\"984\" height=\"554\" src=\"https://www.youtube.com/embed/fAaE5K9OZJc\" title=\"YouTube video player\" frameborder=\"0\" allow=\"accelerometer; autoplay; clipboard-write; encrypted-media; gyroscope; picture-in-picture\" allowfullscreen></iframe>"
            ],
            "text/plain": [
              "<IPython.core.display.HTML object>"
            ]
          },
          "metadata": {
            "tags": []
          },
          "execution_count": 2
        }
      ]
    },
    {
      "cell_type": "code",
      "metadata": {
        "id": "-5lrfWmBW5TH",
        "cellView": "form",
        "colab": {
          "base_uri": "https://localhost:8080/",
          "height": 705
        },
        "outputId": "4f2203fa-722e-4c87-e4c4-42ab9a88c12f"
      },
      "source": [
        "#@title Bayes Rule Summary\n",
        "HTML('<iframe width=\"1181\" height=\"664\" src=\"https://www.youtube.com/embed/RgXQ8GRsjfc\" title=\"YouTube video player\" frameborder=\"0\" allow=\"accelerometer; autoplay; clipboard-write; encrypted-media; gyroscope; picture-in-picture\" allowfullscreen></iframe>')"
      ],
      "execution_count": null,
      "outputs": [
        {
          "output_type": "execute_result",
          "data": {
            "text/html": [
              "<iframe width=\"1181\" height=\"664\" src=\"https://www.youtube.com/embed/RgXQ8GRsjfc\" title=\"YouTube video player\" frameborder=\"0\" allow=\"accelerometer; autoplay; clipboard-write; encrypted-media; gyroscope; picture-in-picture\" allowfullscreen></iframe>"
            ],
            "text/plain": [
              "<IPython.core.display.HTML object>"
            ]
          },
          "metadata": {
            "tags": []
          },
          "execution_count": 116
        }
      ]
    },
    {
      "cell_type": "code",
      "metadata": {
        "id": "N7gTMxXocGcw",
        "cellView": "form",
        "colab": {
          "base_uri": "https://localhost:8080/",
          "height": 685
        },
        "outputId": "436bdeaf-8db6-473b-b5bd-68037a9f18d0"
      },
      "source": [
        "#@title Bayes Rule Diagram\n",
        "# Diagram\n",
        "HTML('<iframe width=\"1181\" height=\"664\" src=\"https://www.youtube.com/embed/b8M9CWxRyQ4\" title=\"YouTube video player\" frameborder=\"0\" allow=\"accelerometer; autoplay; clipboard-write; encrypted-media; gyroscope; picture-in-picture\" allowfullscreen></iframe>')"
      ],
      "execution_count": 3,
      "outputs": [
        {
          "output_type": "execute_result",
          "data": {
            "text/html": [
              "<iframe width=\"1181\" height=\"664\" src=\"https://www.youtube.com/embed/b8M9CWxRyQ4\" title=\"YouTube video player\" frameborder=\"0\" allow=\"accelerometer; autoplay; clipboard-write; encrypted-media; gyroscope; picture-in-picture\" allowfullscreen></iframe>"
            ],
            "text/plain": [
              "<IPython.core.display.HTML object>"
            ]
          },
          "metadata": {
            "tags": []
          },
          "execution_count": 3
        }
      ]
    },
    {
      "cell_type": "code",
      "metadata": {
        "id": "fcPRxGHaSZW5",
        "colab": {
          "base_uri": "https://localhost:8080/"
        },
        "outputId": "b29f57a7-c689-40ed-9fd1-5a9e46efe98a"
      },
      "source": [
        "# Prior\n",
        "\n",
        "# Given:\n",
        "print(\"***Given:*** \\n\")\n",
        "PC = 0.1\n",
        "print('P(C) = ',PC)\n",
        "PPosC = 0.9\n",
        "print('P(Pos|C) = ',PPosC)\n",
        "PNegNotC = 0.5\n",
        "print('P(Neg|notC) = ',PNegNotC)\n",
        "\n",
        "# Find complements\n",
        "print(\"\\n***Find Complements:*** \\n\")\n",
        "PNotC = 1 - PC\n",
        "print('P(NotC) = ',PNotC)\n",
        "\n",
        "PNegC = round(1 - PPosC,2)\n",
        "print('P(Neg|C) = ',PNegC)\n",
        "\n",
        "PPosNotC =  1 - PNegNotC\n",
        "print(\"P(Neg|NotC) = \",PNegNotC)\n",
        "\n",
        "# Joint\n",
        "print('\\n***Joint**\\n')\n",
        "\n",
        "PCNeg = round(PC * PNegC,2)\n",
        "print('P(C,Neg) = ', PCNeg)\n",
        "\n",
        "PNotCNeg = round(PNotC * PNegNotC,2)\n",
        "print('P(NotC,Neg) = ', PNotC * PNegNotC)\n",
        "\n",
        "PCPos = round(PC * PPosC,2)\n",
        "print('P(C,Pos) = ', PCPos)\n",
        "\n",
        "PNotCPos = PNotC * PPosNotC\n",
        "print('P(NotC,Pos) = ', PNotCPos)\n",
        "\n",
        "# Normalizer\n",
        "print('\\n***Normalizer:***\\n')\n",
        "PNeg = PCNeg + PNotCNeg\n",
        "print('P(Neg) = ',PCNeg + PNotCNeg)\n",
        "\n",
        "PPos = PCPos + PNotCPos\n",
        "print('P(Pos) =',PPos)\n",
        "\n",
        "# Posterior\n",
        "print('\\n***Posterior***\\n')\n",
        "print('P(C|Neg) = ', round(PCNeg/PNeg,4))\n",
        "print('P(notC|Neg) = ', round(PNotCNeg/PNeg,4))\n",
        "print(\"P(C|Neg) + P(notC|Neg) = \",round(PCNeg/PNeg,4)+round(PNotCNeg/PNeg,4),'\\n\\n')\n",
        "\n",
        "print('P(C|Pos) = ', round(PCPos/PPos,4))\n",
        "print('P(notC|Pos) = ', round(PNotCPos/PPos,4))\n",
        "print(\"P(C|Pos) + P(notC|Pos) = \",round(PCPos/PPos,4)+round(PNotCPos/PPos,4))"
      ],
      "execution_count": 243,
      "outputs": [
        {
          "output_type": "stream",
          "text": [
            "***Given:*** \n",
            "\n",
            "P(C) =  0.1\n",
            "P(Pos|C) =  0.9\n",
            "P(Neg|notC) =  0.5\n",
            "\n",
            "***Find Complements:*** \n",
            "\n",
            "P(NotC) =  0.9\n",
            "P(Neg|C) =  0.1\n",
            "P(Neg|NotC) =  0.5\n",
            "\n",
            "***Joint**\n",
            "\n",
            "P(C,Neg) =  0.01\n",
            "P(NotC,Neg) =  0.45\n",
            "P(C,Pos) =  0.09\n",
            "P(NotC,Pos) =  0.45\n",
            "\n",
            "***Normalizer:***\n",
            "\n",
            "P(Neg) =  0.46\n",
            "P(Pos) = 0.54\n",
            "\n",
            "***Posterior***\n",
            "\n",
            "P(C|Neg) =  0.0217\n",
            "P(notC|Neg) =  0.9783\n",
            "P(C|Neg) + P(notC|Neg) =  1.0 \n",
            "\n",
            "\n",
            "P(C|Pos) =  0.1667\n",
            "P(notC|Pos) =  0.8333\n",
            "P(C|Pos) + P(notC|Pos) =  1.0\n"
          ],
          "name": "stdout"
        }
      ]
    },
    {
      "cell_type": "markdown",
      "metadata": {
        "id": "L7l0MlJJwdpb"
      },
      "source": [
        "**Given:**\n",
        "\n",
        "$P(Cancer) = 0.1\\\\\n",
        "P(Pos|Cancer) = 0.9\\\\\n",
        "P(Neg|Cancer) = 0.5\\\\\n",
        "$\n",
        "\n",
        "$result = POS$\n",
        "\n",
        "Find the **Posterior Probability** for a Positive test result"
      ]
    },
    {
      "cell_type": "markdown",
      "metadata": {
        "id": "v7znH0Lm4bJN"
      },
      "source": [
        "$$\n",
        "P(A|B) = \\frac{P(B|A)\\,*\\,P(A)} {P(B)}\n",
        "$$\n",
        "\n",
        "*P(B) is the total probability*"
      ]
    },
    {
      "cell_type": "markdown",
      "metadata": {
        "id": "-XenLsdUyqQk"
      },
      "source": [
        "$$\n",
        "P(Cancer|POS) = \\frac{P(Cancer)\\,*\\,P(Pos|Cancer)} {(\\,P(Cancer) \\,*\\, P(Pos|Cancer)\\,) \\,\\,+ \\,\\,P(Pos|\\neg Cancer)}\n",
        "$$"
      ]
    },
    {
      "cell_type": "code",
      "metadata": {
        "colab": {
          "base_uri": "https://localhost:8080/"
        },
        "id": "eE1DwSR_jzHf",
        "outputId": "d480284b-e75c-4c2b-a989-2ca4398f22ed"
      },
      "source": [
        "a = (.1 * .9) / ((.1 * .9) + ((1 -.1) * .5))\n",
        "print('P(Cancer|POS): ',a)"
      ],
      "execution_count": 89,
      "outputs": [
        {
          "output_type": "stream",
          "text": [
            "P(Cancer|POS):  0.16666666666666669\n"
          ],
          "name": "stdout"
        }
      ]
    },
    {
      "cell_type": "markdown",
      "metadata": {
        "id": "J6u00drb2hSn"
      },
      "source": [
        "$$P(\\neg Cancer|POS) = \\frac{P(\\neg Cancer)\\,*\\,P(Pos|Cancer)} {(\\,P(Cancer) \\,*\\, P(Pos|Cancer)\\,) \\,\\,+ \\,\\,P(Pos|\\neg Cancer)}$$"
      ]
    },
    {
      "cell_type": "code",
      "metadata": {
        "colab": {
          "base_uri": "https://localhost:8080/"
        },
        "id": "LQCGZcqfv76B",
        "outputId": "98fe5620-3b62-45d9-8912-238b679c17d6"
      },
      "source": [
        "b = ((1 -.1) * .5) / ((.1 * .9) + ((1 -.1) * .5))\n",
        "print('P(¬Cancer|POS): ',b)"
      ],
      "execution_count": 90,
      "outputs": [
        {
          "output_type": "stream",
          "text": [
            "P(¬Cancer|POS):  0.8333333333333333\n"
          ],
          "name": "stdout"
        }
      ]
    },
    {
      "cell_type": "code",
      "metadata": {
        "colab": {
          "base_uri": "https://localhost:8080/"
        },
        "id": "lELNe1rjwPzH",
        "outputId": "785125e9-1da1-4541-84c0-b7b926e3da79"
      },
      "source": [
        "print('P(Cancer|POS) + P(¬Cancer|POS): ',a + b)"
      ],
      "execution_count": 91,
      "outputs": [
        {
          "output_type": "stream",
          "text": [
            "P(Cancer|POS) + P(¬Cancer|POS):  1.0\n"
          ],
          "name": "stdout"
        }
      ]
    },
    {
      "cell_type": "markdown",
      "metadata": {
        "id": "mQFEeI1X28c7"
      },
      "source": [
        "The probability of having a cancer if the test is positive $\\uparrow$increased from **10** to **16** percent.\n"
      ]
    },
    {
      "cell_type": "markdown",
      "metadata": {
        "id": "qUY3p6MFcwMw"
      },
      "source": [
        "$$\n",
        "P(atRed|seeRed) = \\frac{P(Red)\\,*\\,P(Red|seeRed)} {(\\,P(Red) \\,*\\, P(Red|see Red)\\,) \\,\\,+ \\,\\,P(Red|\\neg seeRed)}\n",
        "$$"
      ]
    },
    {
      "cell_type": "code",
      "metadata": {
        "colab": {
          "base_uri": "https://localhost:8080/"
        },
        "id": "QZKSYCZ2W83d",
        "outputId": "8b7a4d17-819b-42ac-e7bc-02a7dad30a5e"
      },
      "source": [
        "\n",
        "red = (.5 * .8) / ( (.5 * .8) + ((1 - .5) * .5) )\n",
        "red"
      ],
      "execution_count": 92,
      "outputs": [
        {
          "output_type": "execute_result",
          "data": {
            "text/plain": [
              "0.6153846153846154"
            ]
          },
          "metadata": {
            "tags": []
          },
          "execution_count": 92
        }
      ]
    },
    {
      "cell_type": "markdown",
      "metadata": {
        "id": "4b_95VM1e3UF"
      },
      "source": [
        "$$\n",
        "P(atGreen|seeRed) = \\frac{P(\\neg Red)\\,*\\,P(Red|seeRed)} {(\\,P(Red) \\,*\\, P(Red|see Red)\\,) \\,\\,+ \\,\\,P(Red|\\neg seeRed)}\n",
        "$$"
      ]
    },
    {
      "cell_type": "code",
      "metadata": {
        "colab": {
          "base_uri": "https://localhost:8080/"
        },
        "id": "r8IB15QLXZOe",
        "outputId": "afba5065-b0bd-45e9-a364-5694d6862c61"
      },
      "source": [
        "green = ((1 - .5) * .5) / ( (.5 * .8) + ((1 - .5) * .5) )\n",
        "green"
      ],
      "execution_count": 93,
      "outputs": [
        {
          "output_type": "execute_result",
          "data": {
            "text/plain": [
              "0.3846153846153846"
            ]
          },
          "metadata": {
            "tags": []
          },
          "execution_count": 93
        }
      ]
    },
    {
      "cell_type": "markdown",
      "metadata": {
        "id": "t_Zy9IS6AjRP"
      },
      "source": [
        "$Given: \\\\\n",
        "P(A) = 0.2 \\\\\n",
        "P(B) = 0.1 \\\\\n",
        "P(B|A) = 0.3 \\\\\n",
        "$\n",
        "\n",
        "$\n",
        "Find:\\,\\,P\\,(A|B)\\\\\n",
        "$"
      ]
    },
    {
      "cell_type": "markdown",
      "metadata": {
        "id": "Fp90euMMDB_u"
      },
      "source": [
        "$$\n",
        "P(A|B) = \\frac{P(B|A)\\,*\\,P(A)} {P(B)}\n",
        "$$\n",
        "\\\n",
        "$$\n",
        "P(A|B) = \\frac{0.3\\,*\\,0.2} {(0.3\\,*\\,0.2) \\,+\\,(0.1\\,*\\,0.3)}\n",
        "$$\n",
        "\\\n",
        "$$\n",
        "P(A|B) = \\frac{.06} {.06 \\,+\\,.03}\n",
        "$$\n",
        "\\\n",
        "$$\n",
        "P(A|B) = .66\n",
        "$$"
      ]
    },
    {
      "cell_type": "markdown",
      "metadata": {
        "id": "eDsnNb4-dJ-O"
      },
      "source": [
        "## Prior knowledge\n",
        "\n",
        "For questions 1-3, assume you already have the following knowledge:\n",
        "\n",
        "You’re interested in finding out the probability of a car stopping if it sees a yellow traffic light.\n",
        "\n",
        "Past data tells you that the probability of a car stopping at a traffic light intersection is \n",
        "* $P(S) = 0.40$\n",
        "\n",
        "You also know that the past probability of a traffic light being yellow (as opposed to red or green) is \n",
        "\n",
        "* $P(Y) = 0.10$\n",
        "\n",
        "\n",
        "# Q1\n",
        "\n",
        "When a car is stopped at an intersection, data shows that 12% of the time the light is yellow. So if we know a car is stopped, there's a 12% chance the light is yellow. This is called a conditional probability.\n",
        "\n",
        "Given $P(S)$ and $P(Y)$ above, how would you represent this conditional probability in notation?\n",
        "\n",
        "$Solution: P(Y|S) = 0.12$ (Can be read as \"Probability of Yellow given a Stopped car.\")\n"
      ]
    },
    {
      "cell_type": "markdown",
      "metadata": {
        "id": "fQTjatOueCi9"
      },
      "source": [
        "## Q2\n",
        "\n",
        "Using what you know from question 1, answer the following: if the traffic light is yellow, what is the chance that the car will stop?\n",
        "\n",
        "$Given: \\\\\n",
        "P(S) = 0.4 \\\\\n",
        "P(Y) = 0.10 \\\\\n",
        "P(Y|S) = 0.12 \\\\\n",
        "$\n",
        "\n",
        "$\n",
        "Find:\\,\\,P\\,(S|Y)\\\\\n",
        "$"
      ]
    },
    {
      "cell_type": "code",
      "metadata": {
        "colab": {
          "base_uri": "https://localhost:8080/"
        },
        "id": "hBXlqBFBdNos",
        "outputId": "0ef63099-1193-4bee-bfbb-698e67045680"
      },
      "source": [
        "print(\"Formula: P(A|B) = P(B|A) * P(A) / P(B)\\n\")\n",
        "print(\"Formula: P(S|Y) = P(Y|S) * P(S) / P(Y)\\n\")\n",
        "print(\"P(S|Y) = \",(.12 * .4) / .1)"
      ],
      "execution_count": 136,
      "outputs": [
        {
          "output_type": "stream",
          "text": [
            "Formula: P(A|B) = P(B|A) * P(A) / P(B)\n",
            "\n",
            "Formula: P(S|Y) = P(Y|S) * P(S) / P(Y)\n",
            "\n",
            "P(S|Y) =  0.48\n"
          ],
          "name": "stdout"
        }
      ]
    },
    {
      "cell_type": "markdown",
      "metadata": {
        "id": "a5rS5sdVgO5M"
      },
      "source": [
        "Prior knowledge for question 4:\n",
        "\n",
        "On a four-lane highway, cars are either going fast or not fast. Faster cars should go in the leftmost lanes.\n",
        "\n",
        "At any given time, 20% of cars are in the left-most lane.\n",
        "\n",
        "Overall, 40% of cars on the highway are classified as going fast.\n",
        "\n",
        "Out of all the cars in the leftmost lane, 90% are going fast.\n",
        "\n",
        "## Q4\n",
        "\n",
        "Given the above information, if a car is going fast, what is the probability that it will be in the leftmost lane?\n",
        "\n",
        "$Given: \\\\\n",
        "P(L) = 0.2 \\\\\n",
        "P(F) = 0.4 \\\\\n",
        "P(F|L) = 0.9 \\\\\n",
        "$\n",
        "\n",
        "$\n",
        "Find:\\,\\,P\\,(L|F)\\\\\n",
        "$"
      ]
    },
    {
      "cell_type": "code",
      "metadata": {
        "colab": {
          "base_uri": "https://localhost:8080/"
        },
        "id": "kG2BCcA5gaSS",
        "outputId": "778bf844-b14f-40eb-e8df-7d1ad894fe73"
      },
      "source": [
        "print(\"Formula: P(A|B) = P(B|A) * P(A) / P(B)\\n\")\n",
        "print(\"Formula: P(L|F) = P(F|L) * P(L) / P(F)\\n\")\n",
        "print(\"P(L|F) = \",(.2 * .9) / .4)"
      ],
      "execution_count": 134,
      "outputs": [
        {
          "output_type": "stream",
          "text": [
            "Formula: P(A|B) = P(B|A) * P(A) / P(B)\n",
            "\n",
            "Formula: P(L|F) = P(F|L) * P(L) / P(F)\n",
            "\n",
            "P(L|F) =  0.45\n"
          ],
          "name": "stdout"
        }
      ]
    },
    {
      "cell_type": "markdown",
      "metadata": {
        "id": "Npj4-KVyhRPW"
      },
      "source": [
        "Bayes' rule is not only used to incorporate sensor data into an estimate; it’s also often used to incorporate test data into a medical diagnosis.\n",
        "\n",
        "**Prior knowledge for question 5**:\n",
        "\n",
        "1% of all people have cancer.\n",
        "90% of people who have cancer test positive when given a cancer-detecting blood test, meaning the test detects cancer 90% of the time.\n",
        "5% of people will have false positives, meaning that 5% of the time, this test will produce a positive result when people do not have cancer.\n",
        "\n",
        "## Q5\n",
        "\n",
        "Given the above data, what is the probability that a person has cancer if they have a positive cancer-test result? (Note: answers are rounded to the nearest 4th decimal place).\n",
        "\n",
        "$Given: \\\\\n",
        "P(C) = 0.1 \\\\\n",
        "P(Pos|Cancer) = 0.9 \\\\\n",
        "P(Neg|\\neg Cancer) = 0.05 \\\\\n",
        "$\n",
        "\n",
        "$\n",
        "Find:\\,\\,P\\,(C|Pos)\\\\\n",
        "$"
      ]
    },
    {
      "cell_type": "code",
      "metadata": {
        "colab": {
          "base_uri": "https://localhost:8080/"
        },
        "id": "AdKGt9IUg5J_",
        "outputId": "2baab322-9149-4d79-c87f-0237708e9229"
      },
      "source": [
        "print(\"Formula: P(A|B) = P(B|A) * P(A) / P(B)\\n\")\n",
        "print(\"P(B) ~~> expanded as P(C,Pos) + P(¬C,Pos)\\n\")\n",
        "print(\"Formula: P(C|Pos) = P(Pos|Cancer) * P(C) / P(C,Pos) + P(¬C,Pos)\\n\")\n",
        "print('P(C,Pos) = ',.01 * .9,'\\n')\n",
        "PCPos = .01 * .9\n",
        "print('P(¬C,Pos) = ',(1 - .01) * (1 - .5),'\\n')\n",
        "PnotCPos = (1 - .01) * (1 - .5)\n",
        "print('P(Pos) = ', PCPos + PnotCPos,'\\n')\n",
        "PPos = PCPos + PnotCPos\n",
        "print(\"P(C|Pos) = \", PCPos/PPos,'\\n')\n",
        "print(\"P(¬C|Pos) = \", PnotCPos/PPos,'\\n')\n",
        "PCPos = PCPos/PPos \n",
        "PnotCPos = PnotCPos/PPos\n",
        "print(\"P(¬C|Pos) and P(¬C|Pos) should be equal to 1: \",PCPos + PnotCPos)"
      ],
      "execution_count": 133,
      "outputs": [
        {
          "output_type": "stream",
          "text": [
            "Formula: P(A|B) = P(B|A) * P(A) / P(B)\n",
            "\n",
            "P(B) ~~> expanded as P(C,Pos) + P(¬C,Pos)\n",
            "\n",
            "Formula: P(C|Pos) = P(Pos|Cancer) * P(C) / P(C,Pos) + P(¬C,Pos)\n",
            "\n",
            "P(C,Pos) =  0.009000000000000001 \n",
            "\n",
            "P(¬C,Pos) =  0.495 \n",
            "\n",
            "P(Pos) =  0.504 \n",
            "\n",
            "P(C|Pos) =  0.01785714285714286 \n",
            "\n",
            "P(¬C|Pos) =  0.9821428571428571 \n",
            "\n",
            "P(¬C|Pos) and P(¬C|Pos) should be equal to 1:  1.0\n"
          ],
          "name": "stdout"
        }
      ]
    }
  ]
}